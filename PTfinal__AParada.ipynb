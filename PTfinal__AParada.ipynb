{
  "nbformat": 4,
  "nbformat_minor": 0,
  "metadata": {
    "colab": {
      "private_outputs": true,
      "provenance": [],
      "gpuType": "T4",
      "include_colab_link": true
    },
    "kernelspec": {
      "name": "python3",
      "display_name": "Python 3"
    },
    "language_info": {
      "name": "python"
    },
    "accelerator": "GPU"
  },
  "cells": [
    {
      "cell_type": "markdown",
      "metadata": {
        "id": "view-in-github",
        "colab_type": "text"
      },
      "source": [
        "<a href=\"https://colab.research.google.com/github/AidaPG/CienciaDatos_Python_V3/blob/main/PTfinal__AParada.ipynb\" target=\"_parent\"><img src=\"https://colab.research.google.com/assets/colab-badge.svg\" alt=\"Open In Colab\"/></a>"
      ]
    },
    {
      "cell_type": "code",
      "source": [
        "# This get the RAPIDS-Colab install files and test check your GPU.  Run this and the next cell only.\n",
        "# Please read the output of this cell.  If your Colab Instance is not RAPIDS compatible, it will warn you and give you remediation steps.\n",
        "!git clone https://github.com/rapidsai/rapidsai-csp-utils.git\n",
        "!python rapidsai-csp-utils/colab/pip-install.py"
      ],
      "metadata": {
        "id": "CblG7T-IEBZK"
      },
      "execution_count": null,
      "outputs": []
    },
    {
      "cell_type": "code",
      "execution_count": null,
      "metadata": {
        "id": "RGAdx7WW1tJF"
      },
      "outputs": [],
      "source": [
        "!wget https://datosabiertos.salud.gob.mx/gobmx/salud/datos_abiertos/datos_abiertos_covid19.zip"
      ]
    },
    {
      "cell_type": "code",
      "source": [
        "!unzip /content/datos_abiertos_covid19.zip"
      ],
      "metadata": {
        "id": "lUEh9Jxx2uYw"
      },
      "execution_count": null,
      "outputs": []
    },
    {
      "cell_type": "code",
      "source": [
        "import numpy as np\n",
        "import pandas as pd\n",
        "\n",
        "\n",
        "data=pd.read_csv('COVID19MEXICO.csv',low_memory=False)\n",
        "data.info()"
      ],
      "metadata": {
        "id": "YWTqIVR_3C5j"
      },
      "execution_count": null,
      "outputs": []
    },
    {
      "cell_type": "code",
      "source": [
        "df=data\n",
        "\n",
        "df = df.drop(columns=['SECTOR','MUNICIPIO_RES','HABLA_LENGUA_INDIG','ID_REGISTRO','ORIGEN','PAIS_NACIONALIDAD','PAIS_ORIGEN','INDIGENA','ENTIDAD_UM','ENTIDAD_NAC','NACIONALIDAD','ENTIDAD_RES'])\n",
        "df.columns\n",
        "\n",
        "\n",
        "df['FECHA_ACTUALIZACION']=pd.to_datetime(df['FECHA_ACTUALIZACION'])\n",
        "df['FECHA_INGRESO']=pd.to_datetime(df['FECHA_INGRESO'])\n",
        "df['FECHA_SINTOMAS']=pd.to_datetime(df['FECHA_SINTOMAS'])\n",
        "df['FECHA_DEF']=pd.to_datetime(df['FECHA_DEF'],errors='coerce')\n",
        "\n",
        "\n",
        "for col in ['TIPO_PACIENTE']:\n",
        "  df[col]=df[col].astype(str)\n",
        "\n",
        "\n",
        "from sklearn.preprocessing import LabelEncoder\n",
        "\n",
        "le= LabelEncoder()\n",
        "\n",
        "\n",
        "for col in ['TIPO_PACIENTE','SEXO']:\n",
        "  df[col]=le.fit_transform(df[col])\n",
        "# crear caracteristicas apartir de las fechas\n",
        "\n",
        "df['DIAS_DEFUNCION']=(df['FECHA_ACTUALIZACION']- df['FECHA_DEF']).dt.days\n",
        "df['DIAS_HOSPITALIZACION']=(df['FECHA_ACTUALIZACION']- df['FECHA_INGRESO']).dt.days\n",
        "df['DIAS_SINTOMAS']=(df['FECHA_ACTUALIZACION']- df['FECHA_SINTOMAS']).dt.days\n",
        "\n",
        "\n",
        "# Red NUERONAL REVISAR ESTO\n",
        "df['DIAS_DEFUNCION'] = df['DIAS_DEFUNCION'].apply(lambda x: 0 if x < 0 else x)\n",
        "\n",
        "\n",
        "\n"
      ],
      "metadata": {
        "id": "aytu-jda4kPZ"
      },
      "execution_count": null,
      "outputs": []
    },
    {
      "cell_type": "markdown",
      "source": [
        "## Descriptores\n",
        "No |Nombre de Variable | Descripcion de Variable | Formato o Fuente | Catalogo\n"
      ],
      "metadata": {
        "id": "UL_DOanyAvtu"
      }
    },
    {
      "cell_type": "markdown",
      "source": [
        "No  | Nombre de Variable | Descripcion de Variable |Formato o Fuente | Catalogo\n",
        "-------------------|--------------------|-------------------------|-------------|--------------\n",
        "1     | FECHA_ACTUALIZACION |La base de datos se alimenta diariamente, esta variable permite identificar la fecha de la ultima actualizacion. |AAAA-MM-DD |\n",
        "2     |ID_REGISTRO | Número identificador del caso | TEXTO  |\n",
        "3 | ORIGEN|La vigilancia centinela se realiza a través del sistema de unidades\\ de salud monitoras de enfermedades respiratorias (USMER). Las USMER incluyen \\unidades médicas del primer, segundo o tercer nivel de atención y también participan como USMER las unidades de tercer nivel que por sus características \\ contribuyen a ampliar el panorama de información epidemiológica, entre ellas las que cuenten con especialidad de neumología, infectología o pediatría. (Categorías en Catalógo Anexo). |CATÁLOGO: ORIGEN                                           |1- USMER, 2 - FUERA de USMER, 99 - NO ESPECIFICADO\n",
        "4 |SECTOR|Identifica el tipo de institución del Sistema Nacional de Salud que brindó la atención. |CATÁLOGO: SECTOR |1 CRUZ ROJA,2 DIF,3 ESTATAL,4 IMSS,5  IMSS-BIENESTAR,6 ISSST, 7 MUNICIPAL,8 PEMEX,9 PRIVADA,10 SEDENA,11 SEMAR,12 SSA,13 UNIVERSITARIO,99 NO ESPECIFICADO\n",
        "5 |ENTIDAD_UM |Identifica la entidad donde se ubica la unidad medica que brindó la atención. |CATALÓGO: ENTIDADES|\n",
        "6 |SEXO|Identifica al sexo del paciente. | CATÁLOGO: SEXO                              |1 MUJER, 2 HOMBRE, 99 NO ESPECIFICADO\n",
        "7 |ENTIDAD_NAC |Identifica la entidad de nacimiento del paciente.|CATALÓGO: ENTIDADES |\n",
        "8 |ENTIDAD_RES |Identifica la entidad de residencia del paciente.|CATALÓGO: ENTIDADES |\n",
        "9 |TIPO_PACIENTE |Identifica el tipo de atención que recibió el paciente en la unidad. Se denomina como ambulatorio si regresó a su casa o se denomina como hospitalizado si fue ingresado a hospitalización. |CATÁLOGO: TIPO_PACIENTE  | 1 AMBULATORIO, 2 HOSPITALIZADO, 99 NO ESPECIFICADO\n",
        "10 |FECHA_INGRESO |Identifica la fecha de ingreso del paciente a la unidad de atención. |AAAA-MM-DD |\n",
        "11 | | | |\n",
        "12 |FECHA_SINTOMAS |Idenitifica la fecha en que inició la sintomatología del paciente. | AAAA-MM-DD|\n",
        "13 | FECHA_DEF|Identifica la fecha en que el paciente falleció.|AAAA-MM-DD |\n",
        "14 | INTUBADO| Identifica si el paciente requirió de intubación.| CATÁLOGO: SI_ NO |   1 SI , 2 NO,  97 NO APLICA, 98 SE IGNORA, 99 NO ESPECIFICADO.\n",
        "15 |NEUMONIA |Identifica si al paciente se le diagnosticó con neumonía. | CATÁLOGO: SI_ NO                   | 1 SI , 2 NO,  97 NO APLICA, 98 SE IGNORA, 99 NO ESPECIFICADO.\n",
        "16 | EDAD|Identifica la edad del paciente. | NÚMERICA EN AÑOS|\n",
        "17 |NACIONALIDAD |Identifica si el paciente es mexicano o extranjero. | CATÁLOGO: NACIONALIDAD | 1 MEXICANA., 2 EXTRANJERA, 99 NO ESPECIFICADO\n",
        "18 |EMBARAZO |Identifica si la paciente está embarazada. |CATÁLOGO: SI_ NO             |\n",
        "19 | | | |\n",
        "20 | | | |\n",
        "21 | | | |\n",
        "22 | | | |\n",
        "23 | | | |\n",
        "24 | | | |\n",
        "25 | | | |\n",
        "26 | | | |\n",
        "27 | | | |\n",
        "28 | | | |\n",
        "29 | | | |\n",
        "30 | | | |\n",
        "31 | | | |\n",
        "32 | | | |\n",
        "33 | | | |\n",
        "34 | | | |\n",
        "35 | | | |\n",
        "36 | CLASIFICACION_FINAL|Identifica si el paciente es un caso de COVID-19 según el catálogo \"CLASIFICACION_FINAL\".|CATÁLOGO: CLASIFICACION_FINAL |\n",
        "37 | | | |\n",
        "38 | | | |\n",
        "39 | | | |\n",
        "40 | | | |"
      ],
      "metadata": {
        "id": "udAofKWuCSJI"
      }
    },
    {
      "cell_type": "markdown",
      "source": [
        "## Catalogo Clasificacion Final\n",
        "\n",
        "clave| CLASIFICACION |  DESCRIPCION\n",
        "-----|---------------|--------------\n",
        "1| CASO DE COVID-19 CONFIRMADO POR ASOCIACIÓN CLÍNICA EPIDEMIOLÓGICA| Confirmado por asociación aplica cuando el caso informó ser contacto de un\\ positivo a COVID-19 (y este se encuentra registrado en el SISVER) y:\n",
        "Al caso no se le tomo muestra o la muestra resultó no válida.\n",
        "2 | CASO DE COVID-19 CONFIRMADO POR COMITÉ DE  DICTAMINACIÓN | Confirmado por dictaminación solo aplica para defunciones bajo las siguientes condiciones:\n",
        "Al caso no se le tomo muestra o sí se tomó muestra, pero la muestra resultó no válida.\n",
        "3 | CASO DE SARS-COV-2  CONFIRMADO | Confirmado aplica cuando:\n",
        "El caso tiene muestra de laboratorio o prueba antigénica y resultó positiva  a SARS-CoV-2, sin importar si el caso tienen asociación clínica epidemiológica.\n",
        "4 | INVÁLIDO POR LABORATORIO | Inválido aplica cuando el caso no tienen asociación clínico epidemiológica, ni dictaminación a COVID-19. Se le tomó muestra de laboratorio y esta resultó no válida.\n",
        "5  | NO REALIZADO POR LABORATORIO | No realizado aplica cuando el caso no tienen asociación clínico epidemiológica, ni dictaminación a COVID-19 y se le tomó muestra de laboratorio y esta no se procesó.\n",
        "6 | CASO SOSPECHOSO | Sospechoso aplica cuando:\n",
        "El caso no tienen asociación clínico epidemiológica, ni dictaminación a COVID-19 y no se le tomó muestra, o se le tomó muestra de laboratorio y está pendiente de resultado, sin importar otra condición.\n",
        "7 | NEGATIVO A SARS-COV-2 | Negativo aplica cuando el caso:\n",
        "1. Se le tomo muestra de laboratorio y ésta resultó: negativa a SARS-COV-2 o positiva a cualquier otro virus respiratorio (Influenza, VSR, Bocavirus, otros) sin importar que este caso tenga asociación clínico epidemiológica o dictaminación a COVID-19.\n",
        "2. Se le tomó muestra antigénica que resultó negativa a SARS-COV-2 y al caso no se le tomó muestra de laboratorio ni se le confirmo por asosiación epidemiológica o por dictaminación clínica epidemiológica.\n"
      ],
      "metadata": {
        "id": "1khpaRP-USmG"
      }
    },
    {
      "cell_type": "code",
      "source": [
        "import matplotlib.pyplot as plt\n",
        "\n",
        "histo=df.hist(figsize=(20, 20), bins=5)"
      ],
      "metadata": {
        "id": "TkBWDhDm11_-"
      },
      "execution_count": null,
      "outputs": []
    },
    {
      "cell_type": "code",
      "source": [
        "print(df['CLASIFICACION_FINAL'].value_counts())"
      ],
      "metadata": {
        "id": "G7hg53ukgsuA"
      },
      "execution_count": null,
      "outputs": []
    },
    {
      "cell_type": "markdown",
      "source": [
        "#### The \"EDAD\" column contains errors, the max data is 154 yrs."
      ],
      "metadata": {
        "id": "Czm5_SNko3le"
      }
    },
    {
      "cell_type": "code",
      "source": [
        "df[[\"EDAD\"]].describe()"
      ],
      "metadata": {
        "id": "9lXsZBR8Ycd2"
      },
      "execution_count": null,
      "outputs": []
    },
    {
      "cell_type": "markdown",
      "source": [
        "##  Clean age column data\n",
        "* remove register of data above 105 years old."
      ],
      "metadata": {
        "id": "-zhYzOFGm1lN"
      }
    },
    {
      "cell_type": "code",
      "source": [
        "indexEdad=df[(df[\"EDAD\"]>=105)].index\n",
        "df.drop(indexEdad, inplace=True)\n",
        "df[[\"EDAD\"]].describe()"
      ],
      "metadata": {
        "id": "vxq64bBWdSPA"
      },
      "execution_count": null,
      "outputs": []
    },
    {
      "source": [
        "from matplotlib import pyplot as plt\n",
        "df['EDAD'].plot(kind='hist', bins=20, title='EDAD')\n",
        "plt.gca().spines[['top', 'right',]].set_visible(False)"
      ],
      "cell_type": "code",
      "metadata": {
        "id": "QH4r53fTedCI"
      },
      "execution_count": null,
      "outputs": []
    },
    {
      "cell_type": "code",
      "source": [],
      "metadata": {
        "id": "TvOcRwkKfRIS"
      },
      "execution_count": null,
      "outputs": []
    },
    {
      "cell_type": "code",
      "source": [
        "df[[\"EMBARAZO\"]].describe()"
      ],
      "metadata": {
        "id": "qmoooc9XfTgR"
      },
      "execution_count": null,
      "outputs": []
    },
    {
      "source": [
        "from matplotlib import pyplot as plt\n",
        "df['EMBARAZO'].plot(kind='hist', bins=110, title='EMBARAZO')\n",
        "plt.gca().spines[['top', 'right',]].set_visible(False)"
      ],
      "cell_type": "code",
      "metadata": {
        "id": "c_b3gRzOfcV7"
      },
      "execution_count": null,
      "outputs": []
    },
    {
      "cell_type": "code",
      "source": [
        "df = df.drop(columns=['FECHA_ACTUALIZACION', 'FECHA_INGRESO', 'FECHA_SINTOMAS', 'FECHA_DEF','DIAS_DEFUNCION','MIGRANTE', \"TOMA_MUESTRA_LAB\", \"TOMA_MUESTRA_ANTIGENO\"])\n",
        "df.info()"
      ],
      "metadata": {
        "id": "AOW0DNXsORO6"
      },
      "execution_count": null,
      "outputs": []
    },
    {
      "cell_type": "code",
      "source": [
        "\n",
        "X=df.drop(columns=['CLASIFICACION_FINAL'])\n",
        "y=df['CLASIFICACION_FINAL']"
      ],
      "metadata": {
        "id": "NiobzJt7FqsJ"
      },
      "execution_count": null,
      "outputs": []
    },
    {
      "cell_type": "code",
      "source": [
        "from sklearn.model_selection import train_test_split\n",
        "\n",
        "X_train, X_test, y_train, y_test = train_test_split(X, y, test_size=0.2, random_state=42)\n"
      ],
      "metadata": {
        "id": "8e8A20ps6q4l"
      },
      "execution_count": null,
      "outputs": []
    },
    {
      "cell_type": "code",
      "source": [
        "X.info()"
      ],
      "metadata": {
        "id": "an-qCIA8BFIC"
      },
      "execution_count": null,
      "outputs": []
    },
    {
      "cell_type": "code",
      "source": [
        "from sklearn.ensemble import RandomForestClassifier\n",
        "from sklearn.metrics import classification_report\n",
        "clf=RandomForestClassifier(random_state=42)\n",
        "clf.fit(X_train,y_train)\n",
        "y_pred=clf.predict(X_test)\n",
        "\n",
        "print(classification_report(y_test,y_pred))\n"
      ],
      "metadata": {
        "id": "ZOv6vapw_ghp"
      },
      "execution_count": null,
      "outputs": []
    },
    {
      "cell_type": "code",
      "source": [
        "import cuml\n",
        "from cuml.ensemble import RandomForestClassifier\n",
        "from sklearn.metrics import classification_report\n",
        "clf=RandomForestClassifier(random_state=42)\n",
        "#\n",
        "X_train=X_train.astype('float32')\n",
        "y_train=y_train.astype('float32')\n",
        "\n",
        "clf.fit(X_train,y_train)\n",
        "y_pred=clf.predict(X_test)\n",
        "\n",
        "print(classification_report(y_test,y_pred))\n",
        "\n"
      ],
      "metadata": {
        "id": "WegSuOMNHRoP"
      },
      "execution_count": null,
      "outputs": []
    },
    {
      "cell_type": "code",
      "source": [
        "y_pred.info()\n"
      ],
      "metadata": {
        "id": "YWehWz29buJj"
      },
      "execution_count": null,
      "outputs": []
    },
    {
      "cell_type": "code",
      "source": [
        "import cuml\n",
        "from cuml.ensemble import RandomForestClassifier\n",
        "from cuml.neighbors import KNeighborsClassifier\n",
        "clf=RandomForestClassifier(random_state=42)\n",
        "\n",
        "\n",
        "cuml_RFC=RandomForestClassifier(random_state=42)\n",
        "cuml_KNC=KNeighborsClassifier()\n",
        "\n",
        "# classifiers=[\n",
        "#     {\n",
        "#         'Ramdom Forest',cuml_RFC\n",
        "#     },\n",
        "#     {\n",
        "#         'KNN',cuml_KNC\n",
        "#     }\n",
        "# ]\n",
        "\n",
        "\n",
        "# for name,clf in classifiers:\n",
        "#   clf.fit(X_train,y_train)\n",
        "#   y_pred=clf.predict(X_test)\n",
        "#   print(f'Modelo resultados')\n",
        "#   print(classification_report(y_test,y_pred))\n",
        "cuml_RFC.fit(X_train,y_train)\n",
        "y_pred_RFC=cuml_RFC.predict(X_test)\n",
        "print('Modelo resultados RFC')\n",
        "print(classification_report(y_test,y_pred_RFC))\n",
        "\n",
        "cuml_KNC.fit(X_train,y_train)\n",
        "y_pred_KNC=cuml_KNC.predict(X_test)\n",
        "print('Modelo resultados KNC')\n",
        "print(classification_report(y_test,y_pred_KNC))"
      ],
      "metadata": {
        "id": "P5LvOlTGJ179"
      },
      "execution_count": null,
      "outputs": []
    },
    {
      "cell_type": "code",
      "source": [],
      "metadata": {
        "id": "LmgU8sI4UgHM"
      },
      "execution_count": null,
      "outputs": []
    },
    {
      "cell_type": "code",
      "source": [
        "import locale\n",
        "def getpreferredencoding(do_setlocale = True):\n",
        "    return \"UTF-8\"\n",
        "locale.getpreferredencoding = getpreferredencoding"
      ],
      "metadata": {
        "id": "pUeYZr-fMWsm"
      },
      "execution_count": null,
      "outputs": []
    },
    {
      "cell_type": "code",
      "source": [
        "!pip install gradio"
      ],
      "metadata": {
        "id": "SyBKcHPvKq6i"
      },
      "execution_count": null,
      "outputs": []
    },
    {
      "cell_type": "markdown",
      "source": [
        "## Update features names for UI\n",
        "### Features removed:\n",
        "\n",
        "* 'FECHA_ACTUALIZACION'\n",
        "* 'FECHA_INGRESO'\n",
        "* 'FECHA_SINTOMAS'\n",
        "* 'FECHA_DEF','DIAS_DEFUNCION'\n",
        "* 'MIGRANTE'\n",
        "* \"TOMA_MUESTRA_LAB\"\n",
        "* \"TOMA_MUESTRA_ANTIGENO\""
      ],
      "metadata": {
        "id": "jOppzO0QnaN6"
      }
    },
    {
      "cell_type": "code",
      "source": [
        "from numpy.core.multiarray import concatenate\n",
        "import gradio as gr\n",
        "import pandas as pd\n",
        "import numpy as np\n",
        "\n",
        "\n",
        "def predict(sexo, tipo_paciente, intubado, neumonia, edad, embarazo,\n",
        "             diabetes, epoc, asma, inmusupr,\n",
        "            hipertension, otra_com, cardiovascular, obesidad,\n",
        "            renal_cronica, tabaquismo, otro_caso,\n",
        "            resultado_lab, resultado_antigeno,\n",
        "           uci, dias_hospitalizacion, dias_sintomas):\n",
        "\n",
        "\n",
        "    # Crea un DataFrame con los valores de entrada\n",
        "    input_data = pd.DataFrame([[\n",
        "        sexo, tipo_paciente, intubado, neumonia, edad, embarazo,\n",
        "       diabetes, epoc, asma, inmusupr,\n",
        "        hipertension, otra_com, cardiovascular, obesidad,\n",
        "        renal_cronica, tabaquismo, otro_caso, resultado_lab, resultado_antigeno, uci, dias_hospitalizacion, dias_sintomas\n",
        "        ]], columns=[\n",
        "        'SEXO', 'TIPO_PACIENTE', 'INTUBADO', 'NEUMONIA', 'EDAD', 'EMBARAZO','DIABETES', 'EPOC',\n",
        "        'ASMA', 'INMUSUPR','HIPERTENSION', 'OTRA_COM', 'CARDIOVASCULAR', 'OBESIDAD','RENAL_CRONICA',\n",
        "        'TABAQUISMO', 'OTRO_CASO', 'RESULTADO_LAB',\n",
        "        'RESULTADO_ANTIGENO','UCI', 'DIAS_HOSPITALIZACION', 'DIAS_SINTOMAS'])\n",
        "\n",
        "    prediction = clf.predict(input_data)\n",
        "\n",
        "\n",
        "    # create a dictionary of final result obtained from catalog\n",
        "    clasificador_dicc={3:\"CASO DE SARS-COV-2  CONFIRMADO\",6:\"CASO SOSPECHOSO\", 7:\"NEGATIVO A SARS-COV-2\"}\n",
        "\n",
        "    # return the prediction code with the dictionary value.\n",
        "    return f\"{prediction[0]},{clasificador_dicc[prediction[0]]}\"\n",
        "\n",
        "gr.Row\n",
        "inputs = [\n",
        "    gr.Radio(choices=[0, 1], label='Sexo'),\n",
        "    gr.Radio(choices=[0, 1], label='Tipo de Paciente'),\n",
        "    gr.Radio(choices=[0, 1, 97, 98, 99], label='Intubado'),\n",
        "    gr.Radio(choices=[0, 1, 97, 98, 99], label='Neumonía'),\n",
        "    gr.Slider(minimum=0, maximum=120, value=30, label='Edad'),\n",
        "    gr.Radio(choices=[1, 2, 97, 98, 99], label='Embarazo'),\n",
        "    gr.Radio(choices=[1, 2, 98], label='Diabetes'),\n",
        "    gr.Radio(choices=[1, 2, 98], label='EPOC'),\n",
        "    gr.Radio(choices=[1, 2, 98], label='Asma'),\n",
        "    gr.Radio(choices=[1, 2, 98], label='Inmunosupresión'),\n",
        "    gr.Radio(choices=[1, 2, 98], label='Hipertensión'),\n",
        "    gr.Radio(choices=[1, 2, 98], label='Otra Comorbilidad'),\n",
        "    gr.Radio(choices=[1, 2, 98], label='Cardiovascular'),\n",
        "    gr.Radio(choices=[1, 2, 98], label='Obesidad'),\n",
        "    gr.Radio(choices=[1, 2, 98], label='Enfermedad Renal Crónica'),\n",
        "    gr.Radio(choices=[1, 2, 98], label='Tabaquismo'),\n",
        "    gr.Radio(choices=[1, 2, 99], label='Contacto con otro caso'),\n",
        "    gr.Radio(choices=[1, 2, 97, 98, 99], label='Resultado de laboratorio'),\n",
        "    gr.Radio(choices=[1, 2, 97, 98, 99], label='Resultado de antígeno'),\n",
        "    gr.Radio(choices=[1, 2, 97, 98, 99], label='UCI'),\n",
        "    gr.Number(label='Días de Hospitalización',value=0),\n",
        "    gr.Number(label='Días con Síntomas',value=0),\n",
        "]\n",
        "\n",
        "# Crear componente de salida para Gradio\n",
        "outputs = gr.Textbox(label=\"Predicción\")\n",
        "\n",
        "# Crear la interfaz de Gradio\n",
        "demo = gr.Interface(fn=predict, inputs=inputs, outputs=outputs)\n",
        "\n",
        "# Ejecutar la aplicación web\n",
        "if __name__ == \"__main__\":\n",
        "    demo.launch(show_api=False,debug=True)"
      ],
      "metadata": {
        "id": "X6w1zIbUNCkq"
      },
      "execution_count": null,
      "outputs": []
    },
    {
      "cell_type": "code",
      "source": [
        "X_test"
      ],
      "metadata": {
        "id": "KSqCkfDQUr6p"
      },
      "execution_count": null,
      "outputs": []
    }
  ]
}